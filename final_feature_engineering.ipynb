{
 "cells": [
  {
   "cell_type": "code",
   "execution_count": 1,
   "metadata": {},
   "outputs": [],
   "source": [
    "import pandas as pd\n",
    "import numpy as np\n",
    "import matplotlib.pyplot as plt\n",
    "import math\n",
    "from sklearn.model_selection import train_test_split\n",
    "\n",
    "%matplotlib inline"
   ]
  },
  {
   "cell_type": "code",
   "execution_count": 2,
   "metadata": {},
   "outputs": [],
   "source": [
    "pickles = ['A.pickle', 'B.pickle', 'C.pickle', 'D.pickle', 'E.pickle', 'F.pickle', 'G.pickle', 'H.pickle']"
   ]
  },
  {
   "cell_type": "code",
   "execution_count": 3,
   "metadata": {},
   "outputs": [],
   "source": [
    "df = pd.DataFrame()\n",
    "\n",
    "useless = ['artist_id', 'artist_mbid', 'artist_playmeid', 'artist_7digitalid', 'release_7digitalid', 'song_id',\n",
    "           'track_7digitalid', 'similar_artists', 'artist_terms', 'artist_terms_freq', 'artist_terms_weight',\n",
    "           'audio_md5', 'track_id', 'artist_mbtags', 'artist_mbtags_count', 'artist_name', 'release', 'artist_location'\n",
    "          ]\n",
    "\n",
    "almost_empty = ['artist_latitude', 'artist_longitude', 'danceability', 'energy', 'analysis_sample_rate']\n",
    "\n",
    "mean_col = ['segments_confidence', 'sections_confidence', 'beats_confidence', 'bars_confidence', 'tatums_confidence']\n",
    "\n",
    "mean_diff = ['sections_start', 'beats_start', 'bars_start', 'tatums_start']\n",
    "\n",
    "length = ['title']"
   ]
  },
  {
   "cell_type": "code",
   "execution_count": 4,
   "metadata": {},
   "outputs": [],
   "source": [
    "def feat_engineering(filename):\n",
    "    print('processing:', filename)\n",
    "    curr = pd.read_pickle(filename)\n",
    "    curr = curr.drop(columns = useless)\n",
    "    curr = curr.drop(columns = almost_empty)\n",
    "    for c in mean_col:\n",
    "        curr[c+'_mean'] = curr[c].apply( lambda x: 0 if len(x)==0 else np.mean(x) )\n",
    "        curr[c+'_len'] = curr[c].apply( lambda x: len(x) )\n",
    "    curr = curr.drop(columns = mean_col)\n",
    "    for c in mean_diff:\n",
    "        curr[c+'_mean_diff'] = curr[c].apply( lambda x: 0 if len(x)<2 else np.mean(np.array(x)[1:]-np.array(x)[:-1]) )\n",
    "    curr = curr.drop(columns = mean_diff)\n",
    "    for c in length:\n",
    "        curr[c+'_length'] = curr[c].apply( lambda x: len(x) )\n",
    "    curr = curr.drop(columns = length)\n",
    "    curr['mode_modified'] = (curr['mode']*2-1) * curr['mode_confidence']\n",
    "    curr = curr.drop(columns = ['mode', 'mode_confidence'])\n",
    "    \n",
    "    curr = curr[curr['segments_pitches'].apply(lambda x : len(x)) >=121]\n",
    "    \n",
    "    X = []\n",
    "    for ind, row in curr[['segments_pitches', 'segments_timbre', 'segments_loudness_start', 'segments_loudness_max', 'segments_loudness_max_time', 'segments_start']].iterrows():\n",
    "        if row['segments_pitches'].shape[0] >= 121:\n",
    "            beg_ind = (row['segments_pitches'].shape[0]-121)//2\n",
    "            pitch = row['segments_pitches'][beg_ind:beg_ind+120]\n",
    "            timbre = row['segments_timbre'][beg_ind:beg_ind+120]\n",
    "            loudness = row['segments_loudness_start'][beg_ind:beg_ind+120].reshape(-1, 1)\n",
    "            loudness_max = row['segments_loudness_max'][beg_ind:beg_ind+120].reshape(-1, 1)\n",
    "            loudness_max_time = row['segments_loudness_max_time'][beg_ind:beg_ind+120].reshape(-1, 1)\n",
    "            duration = (row['segments_start'][beg_ind+1:beg_ind+121]-row['segments_start'][beg_ind:beg_ind+120]).reshape(-1, 1)\n",
    "            X.append( np.concatenate((pitch, timbre, loudness, loudness_max, loudness_max_time, duration), axis=1) )\n",
    "    curr['audio_data'] = X\n",
    "    curr = curr.drop(columns = ['segments_start','segments_pitches','segments_timbre','segments_loudness_max','segments_loudness_max_time','segments_loudness_start'])\n",
    "    \n",
    "    mean_year = sum(curr['year']) / sum(curr['year']!=0)\n",
    "    curr['year'] = curr['year'].apply(lambda x: mean_year if x==0 else x)\n",
    "    return curr"
   ]
  },
  {
   "cell_type": "code",
   "execution_count": 5,
   "metadata": {},
   "outputs": [
    {
     "name": "stdout",
     "output_type": "stream",
     "text": [
      "processing: A.pickle\n",
      "processing: B.pickle\n",
      "processing: C.pickle\n",
      "processing: D.pickle\n",
      "processing: E.pickle\n",
      "processing: F.pickle\n",
      "processing: G.pickle\n",
      "processing: H.pickle\n"
     ]
    }
   ],
   "source": [
    "for p in pickles:\n",
    "    df = pd.concat([df, feat_engineering(p)])"
   ]
  },
  {
   "cell_type": "code",
   "execution_count": 6,
   "metadata": {},
   "outputs": [
    {
     "name": "stdout",
     "output_type": "stream",
     "text": [
      "0        0.461318\n",
      "1        0.386606\n",
      "2        0.401998\n",
      "3        0.307080\n",
      "7        0.387617\n",
      "8        0.336660\n",
      "10       0.000000\n",
      "13       0.342480\n",
      "14       0.378545\n",
      "15       0.401724\n",
      "22       0.445716\n",
      "24       0.542884\n",
      "28       0.562610\n",
      "37       0.336491\n",
      "41       0.398984\n",
      "42       0.332276\n",
      "44       0.414283\n",
      "48       0.296269\n",
      "49       0.401116\n",
      "52       0.392368\n",
      "55       0.351556\n",
      "56       0.379482\n",
      "57       0.444632\n",
      "58       0.381501\n",
      "59       0.447142\n",
      "62       0.479770\n",
      "63       0.328403\n",
      "64       0.382038\n",
      "65       0.305295\n",
      "66       0.501825\n",
      "           ...   \n",
      "38465    0.590292\n",
      "38466    0.353942\n",
      "38467    0.379735\n",
      "38469    0.362903\n",
      "38470    0.531775\n",
      "38472    0.374065\n",
      "38475    0.301122\n",
      "38479    0.400251\n",
      "38480    0.272103\n",
      "38481    0.270230\n",
      "38483    0.353884\n",
      "38485    0.210433\n",
      "38486    0.458982\n",
      "38488    0.411259\n",
      "38489    0.396810\n",
      "38493    0.383392\n",
      "38497    0.354472\n",
      "38499    0.504924\n",
      "38501    0.255267\n",
      "38502    0.530784\n",
      "38503    0.444087\n",
      "38505    0.516193\n",
      "38506    0.477179\n",
      "38507    0.463032\n",
      "38509    0.348199\n",
      "38511    0.445756\n",
      "38512    0.349981\n",
      "38513    0.379499\n",
      "38516    0.409292\n",
      "38517    0.386493\n",
      "Name: artist_hotttnesss, Length: 176799, dtype: float64\n"
     ]
    }
   ],
   "source": [
    "df_norm = df.copy()\n",
    "\n",
    "print(df_norm['artist_hotttnesss'])"
   ]
  },
  {
   "cell_type": "code",
   "execution_count": 7,
   "metadata": {},
   "outputs": [
    {
     "name": "stdout",
     "output_type": "stream",
     "text": [
      "0        0.553462\n",
      "1       -0.108783\n",
      "2        0.027644\n",
      "3       -0.813702\n",
      "7       -0.099826\n",
      "8       -0.551511\n",
      "10      -3.535656\n",
      "13      -0.499916\n",
      "14      -0.180242\n",
      "15       0.025216\n",
      "22       0.415167\n",
      "24       1.276457\n",
      "28       1.451314\n",
      "37      -0.553008\n",
      "41       0.000935\n",
      "42      -0.590369\n",
      "44       0.136545\n",
      "48      -0.909533\n",
      "49       0.019830\n",
      "52      -0.057709\n",
      "55      -0.419471\n",
      "56      -0.171932\n",
      "57       0.405558\n",
      "58      -0.154039\n",
      "59       0.427804\n",
      "62       0.717019\n",
      "63      -0.624700\n",
      "64      -0.149273\n",
      "65      -0.829527\n",
      "66       0.912509\n",
      "           ...   \n",
      "38465    1.696687\n",
      "38466   -0.398316\n",
      "38467   -0.169691\n",
      "38469   -0.318890\n",
      "38470    1.177989\n",
      "38472   -0.219953\n",
      "38475   -0.866515\n",
      "38479    0.012164\n",
      "38480   -1.123744\n",
      "38481   -1.140344\n",
      "38483   -0.398830\n",
      "38485   -1.670382\n",
      "38486    0.532750\n",
      "38488    0.109736\n",
      "38489   -0.018341\n",
      "38493   -0.137274\n",
      "38497   -0.393620\n",
      "38499    0.939981\n",
      "38501   -1.272977\n",
      "38502    1.169207\n",
      "38503    0.400722\n",
      "38505    1.039874\n",
      "38506    0.694050\n",
      "38507    0.568654\n",
      "38509   -0.449227\n",
      "38511    0.415519\n",
      "38512   -0.433430\n",
      "38513   -0.171782\n",
      "38516    0.092303\n",
      "38517   -0.109788\n",
      "Name: artist_hotttnesss, Length: 176799, dtype: float64\n"
     ]
    }
   ],
   "source": [
    "def norm_column(x):\n",
    "    return (np.array(x) - np.mean(x))/np.std(x)\n",
    "\n",
    "#print(df['analysis_sample_rate'])\n",
    "for c in df_norm.columns:\n",
    "    #print(c, np.std(df_norm[c]))\n",
    "    if c != 'audio_data' and c != 'song_hotttnesss':\n",
    "        df_norm[c] = norm_column(df_norm[c])\n",
    "\n",
    "print(df_norm['artist_hotttnesss'])"
   ]
  },
  {
   "cell_type": "code",
   "execution_count": 8,
   "metadata": {},
   "outputs": [],
   "source": [
    "ad = np.concatenate( df_norm['audio_data'].apply(lambda x : x.reshape(1, 120, 28)).values )\n",
    "mean = [ad[:, :, :12].mean(), ad[:, :, 12:24].mean(), ad[:, :, 24].mean(), ad[:, :, 25].mean(), ad[:, :, 26].mean(), ad[:, :, 27].mean()]\n",
    "std = [ad[:, :, :12].std(), ad[:, :, 12:24].std(), ad[:, :, 24].std(), ad[:, :, 25].std(), ad[:, :, 26].std(), ad[:, :, 27].std()]\n",
    "\n",
    "ad[:, :, :12] = ( ad[:, :, :12] - mean[0] ) / std[0]\n",
    "ad[:, :, 12:24] = ( ad[:, :, 12:24] - mean[1] ) / std[1]\n",
    "ad[:, :, 24] = ( ad[:, :, 24] - mean[2] ) / std[2]\n",
    "ad[:, :, 25] = ( ad[:, :, 25] - mean[3] ) / std[3]\n",
    "ad[:, :, 26] = ( ad[:, :, 26] - mean[4] ) / std[4]\n",
    "ad[:, :, 27] = ( ad[:, :, 27] - mean[5] ) / std[5]"
   ]
  },
  {
   "cell_type": "code",
   "execution_count": 9,
   "metadata": {},
   "outputs": [
    {
     "data": {
      "text/plain": [
       "<matplotlib.image.AxesImage at 0x2c52d65ff28>"
      ]
     },
     "execution_count": 9,
     "metadata": {},
     "output_type": "execute_result"
    },
    {
     "data": {
      "image/png": "[encoded data removed]",
      "text/plain": [
       "<Figure size 432x288 with 1 Axes>"
      ]
     },
     "metadata": {},
     "output_type": "display_data"
    }
   ],
   "source": [
    "df_norm['audio_data'] = list(ad)\n",
    "\n",
    "plt.imshow(df_norm['audio_data'].values[0].T, cmap='gray')"
   ]
  },
  {
   "cell_type": "code",
   "execution_count": 10,
   "metadata": {},
   "outputs": [
    {
     "data": {
      "text/plain": [
       "<matplotlib.image.AxesImage at 0x2c52d62f780>"
      ]
     },
     "execution_count": 10,
     "metadata": {},
     "output_type": "execute_result"
    },
    {
     "data": {
      "image/png": "[encoded data removed]",
      "text/plain": [
       "<Figure size 432x288 with 1 Axes>"
      ]
     },
     "metadata": {},
     "output_type": "display_data"
    }
   ],
   "source": [
    "plt.imshow(df_norm['audio_data'].values[9].T, cmap='gray')"
   ]
  },
  {
   "cell_type": "code",
   "execution_count": 11,
   "metadata": {},
   "outputs": [],
   "source": [
    "df_norm.to_pickle('norm_all_data.pickle')"
   ]
  },
  {
   "cell_type": "code",
   "execution_count": null,
   "metadata": {},
   "outputs": [],
   "source": []
  }
 ],
 "metadata": {
  "kernelspec": {
   "display_name": "Python 3",
   "language": "python",
   "name": "python3"
  },
  "language_info": {
   "codemirror_mode": {
    "name": "ipython",
    "version": 3
   },
   "file_extension": ".py",
   "mimetype": "text/x-python",
   "name": "python",
   "nbconvert_exporter": "python",
   "pygments_lexer": "ipython3",
   "version": "3.6.5"
  }
 },
 "nbformat": 4,
 "nbformat_minor": 2
}
