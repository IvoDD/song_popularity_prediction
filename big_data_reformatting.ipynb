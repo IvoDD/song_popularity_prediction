{
 "cells": [
  {
   "cell_type": "code",
   "execution_count": 1,
   "metadata": {},
   "outputs": [],
   "source": [
    "import pandas as pd\n",
    "import numpy as np\n",
    "import matplotlib.pyplot as plt\n",
    "import math\n",
    "\n",
    "%matplotlib inline"
   ]
  },
  {
   "cell_type": "code",
   "execution_count": 2,
   "metadata": {},
   "outputs": [],
   "source": [
    "pickles = ['A.pickle', 'B.pickle', 'C.pickle', 'D.pickle', 'E.pickle', 'F.pickle', 'G.pickle', 'H.pickle']"
   ]
  },
  {
   "cell_type": "code",
   "execution_count": 3,
   "metadata": {},
   "outputs": [],
   "source": [
    "X = []\n",
    "y = []\n",
    "\n",
    "def append_data(pickle_file):\n",
    "    global X\n",
    "    global y\n",
    "    df = pd.read_pickle(pickle_file)\n",
    "    for ind, row in df[['segments_pitches', 'segments_timbre', 'segments_loudness_start', 'song_hotttnesss']].iterrows():\n",
    "        if row['segments_pitches'].shape[0] >= 120:\n",
    "            beg_ind = (row['segments_pitches'].shape[0]-120)//2\n",
    "            pitch = row['segments_pitches'][beg_ind:beg_ind+120]\n",
    "            timbre = row['segments_timbre'][beg_ind:beg_ind+120]\n",
    "            loudness = row['segments_loudness_start'][beg_ind:beg_ind+120].reshape(-1, 1)\n",
    "            y.append(row['song_hotttnesss'])\n",
    "            X.append( np.concatenate((pitch, timbre, loudness), axis=1) )\n",
    "        if ind % 10000 == 0: print(pickle_file, 'reached', ind)"
   ]
  },
  {
   "cell_type": "code",
   "execution_count": 4,
   "metadata": {},
   "outputs": [
    {
     "name": "stdout",
     "output_type": "stream",
     "text": [
      "A.pickle reached 0\n",
      "A.pickle reached 30000\n",
      "B.pickle reached 0\n",
      "B.pickle reached 20000\n",
      "C.pickle reached 10000\n",
      "C.pickle reached 30000\n",
      "D.pickle reached 0\n",
      "D.pickle reached 10000\n",
      "D.pickle reached 20000\n",
      "D.pickle reached 30000\n",
      "E.pickle reached 20000\n",
      "F.pickle reached 0\n",
      "F.pickle reached 10000\n",
      "G.pickle reached 20000\n",
      "G.pickle reached 30000\n",
      "H.pickle reached 10000\n",
      "H.pickle reached 30000\n"
     ]
    }
   ],
   "source": [
    "X = []\n",
    "y = []\n",
    "\n",
    "for p in pickles:\n",
    "    append_data(p)"
   ]
  },
  {
   "cell_type": "code",
   "execution_count": 5,
   "metadata": {},
   "outputs": [
    {
     "name": "stdout",
     "output_type": "stream",
     "text": [
      "(176825, 120, 25) (176825,)\n"
     ]
    }
   ],
   "source": [
    "X = np.array(X)\n",
    "y = np.array(y)\n",
    "\n",
    "print(X.shape, y.shape)"
   ]
  },
  {
   "cell_type": "code",
   "execution_count": 6,
   "metadata": {},
   "outputs": [
    {
     "name": "stdout",
     "output_type": "stream",
     "text": [
      "(161825, 120, 25) (161825,) (5000, 120, 25) (5000,) (10000, 120, 25) (10000,)\n"
     ]
    }
   ],
   "source": [
    "from sklearn.model_selection import train_test_split\n",
    "\n",
    "X, X_test, y, y_test = train_test_split(X, y, test_size=10000, random_state=42)\n",
    "X_train, X_valid, y_train, y_valid = train_test_split(X, y, test_size=5000, random_state=42)\n",
    "\n",
    "print(X_train.shape, y_train.shape, X_valid.shape, y_valid.shape, X_test.shape, y_test.shape)"
   ]
  },
  {
   "cell_type": "code",
   "execution_count": 7,
   "metadata": {},
   "outputs": [],
   "source": [
    "mean = [X_train[:, :, :12].mean(), X_train[:, :, 12:24].mean(), X_train[:, :, 24].mean()]\n",
    "std = [X_train[:, :, :12].std(), X_train[:, :, 12:24].std(), X_train[:, :, 24].std()]\n",
    "\n",
    "X_train[:, :, :12] = ( X_train[:, :, :12] - mean[0] ) / std[0]\n",
    "X_train[:, :, 12:24] = ( X_train[:, :, 12:24] - mean[1] ) / std[1]\n",
    "X_train[:, :, 24] = ( X_train[:, :, 24] - mean[2] ) / std[2]\n",
    "\n",
    "X_valid[:, :, :12] = ( X_valid[:, :, :12] - mean[0] ) / std[0]\n",
    "X_valid[:, :, 12:24] = ( X_valid[:, :, 12:24] - mean[1] ) / std[1]\n",
    "X_valid[:, :, 24] = ( X_valid[:, :, 24] - mean[2] ) / std[2]\n",
    "\n",
    "X_test[:, :, :12] = ( X_test[:, :, :12] - mean[0] ) / std[0]\n",
    "X_test[:, :, 12:24] = ( X_test[:, :, 12:24] - mean[1] ) / std[1]\n",
    "X_test[:, :, 24] = ( X_test[:, :, 24] - mean[2] ) / std[2]"
   ]
  },
  {
   "cell_type": "code",
   "execution_count": 8,
   "metadata": {},
   "outputs": [],
   "source": [
    "np.save('X_train', X_train)\n",
    "np.save('y_train', y_train)\n",
    "np.save('X_valid', X_valid)\n",
    "np.save('y_valid', y_valid)\n",
    "np.save('X_test', X_test)\n",
    "np.save('y_test', y_test)"
   ]
  },
  {
   "cell_type": "code",
   "execution_count": null,
   "metadata": {},
   "outputs": [],
   "source": []
  }
 ],
 "metadata": {
  "kernelspec": {
   "display_name": "Python 3",
   "language": "python",
   "name": "python3"
  },
  "language_info": {
   "codemirror_mode": {
    "name": "ipython",
    "version": 3
   },
   "file_extension": ".py",
   "mimetype": "text/x-python",
   "name": "python",
   "nbconvert_exporter": "python",
   "pygments_lexer": "ipython3",
   "version": "3.6.5"
  }
 },
 "nbformat": 4,
 "nbformat_minor": 2
}
